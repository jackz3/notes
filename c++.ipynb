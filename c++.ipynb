{
 "cells": [
  {
   "cell_type": "markdown",
   "metadata": {},
   "source": [
    "### installation\n",
    "```bash\n",
    "wget https://root.cern.ch/download/cling/cling_2018-01-08_ubuntu14.tar.bz2\n",
    "tar jxf ./cling_2018-01-08_ubuntu14.tar.bz2\n",
    "export PATH=/home/ubuntu_user/cling_ubuntu/bin:$PATH\n",
    "cd /cling_ubuntu/share/cling/Jupyter/kernel\n",
    "pip install -e .\n",
    "jupyter-kernelspec install [--user] cling-cpp11\n",
    "```"
   ]
  },
  {
   "cell_type": "code",
   "execution_count": 1,
   "metadata": {
    "scrolled": true
   },
   "outputs": [
    {
     "data": {
      "text/plain": []
     },
     "execution_count": 1,
     "metadata": {},
     "output_type": "execute_result"
    }
   ],
   "source": [
    "#include <iostream>\n",
    "/*\n",
    "#xxx is preprocessor\n",
    "<> search from std dir\n",
    "#include \"iostream\"\n",
    "search local dir first,if not found then std dir\n",
    "*/"
   ]
  },
  {
   "cell_type": "code",
   "execution_count": 2,
   "metadata": {},
   "outputs": [
    {
     "data": {
      "text/plain": []
     },
     "execution_count": 2,
     "metadata": {},
     "output_type": "execute_result"
    }
   ],
   "source": [
    "//io manipulation\n",
    "#include <iomanip>\n",
    "/* can use std::setw(int)"
   ]
  },
  {
   "cell_type": "code",
   "execution_count": 3,
   "metadata": {},
   "outputs": [
    {
     "data": {
      "text/plain": []
     },
     "execution_count": 3,
     "metadata": {},
     "output_type": "execute_result"
    }
   ],
   "source": [
    "using namespace std;"
   ]
  },
  {
   "cell_type": "code",
   "execution_count": 17,
   "metadata": {},
   "outputs": [
    {
     "name": "stdout",
     "output_type": "stream",
     "text": [
      "hello3\n",
      "world\n"
     ]
    },
    {
     "data": {
      "text/plain": [
       "(int) 0\n"
      ]
     },
     "execution_count": 17,
     "metadata": {},
     "output_type": "execute_result"
    }
   ],
   "source": [
    "int main1()\n",
    "{\n",
    "    const int i=3;\n",
    "    //using namespace std;\n",
    "    cout<<\"hello\"<<i<<\"\\n\";\n",
    "    cout<<\"world\"<<std::endl;\n",
    "    return 0;\n",
    "}\n",
    "main1()"
   ]
  },
  {
   "cell_type": "code",
   "execution_count": 14,
   "metadata": {},
   "outputs": [
    {
     "name": "stdout",
     "output_type": "stream",
     "text": [
      "int          float              \n",
      "123              \n"
     ]
    },
    {
     "data": {
      "text/plain": [
       "(std::basic_ostream<char, std::char_traits<char> > &) @0x7feb0126a6e0\n"
      ]
     },
     "execution_count": 14,
     "metadata": {},
     "output_type": "execute_result"
    }
   ],
   "source": [
    "float f=1.234;\n",
    "cout<<\"int\"<<std::setw(15)<<\"float\"<<setw(15)<<\"\\n\";\n",
    "cout<<123<<std::setw(15)<<\"\\n\";\n"
   ]
  },
  {
   "cell_type": "code",
   "execution_count": 18,
   "metadata": {},
   "outputs": [
    {
     "name": "stdout",
     "output_type": "stream",
     "text": [
      "0"
     ]
    },
    {
     "data": {
      "text/plain": [
       "(std::basic_ostream<char, std::char_traits<char> >::__ostream_type &) @0x7feb0126a6e0\n"
      ]
     },
     "execution_count": 18,
     "metadata": {},
     "output_type": "execute_result"
    }
   ],
   "source": [
    "//define MONTHS as having 12 possible values\n",
    "enum MONTHS {Jan, Feb, Mar, Apr,May,Jun,Jul,Aug,Sep,Oct,Nov,Dec};\n",
    "//define bestMonth as a variable type MONTHS\n",
    "MONTHS bestMonth; \n",
    "//assign bestMonth one of the values of MONTHS\n",
    "bestMonth = Jan;\n",
    "cout<<bestMonth;"
   ]
  },
  {
   "cell_type": "code",
   "execution_count": 28,
   "metadata": {},
   "outputs": [
    {
     "data": {
      "text/plain": []
     },
     "execution_count": 28,
     "metadata": {},
     "output_type": "execute_result"
    }
   ],
   "source": [
    "#include <fstream>\n",
    "#include <string>"
   ]
  },
  {
   "cell_type": "code",
   "execution_count": 34,
   "metadata": {},
   "outputs": [
    {
     "name": "stderr",
     "output_type": "stream",
     "text": [
      "\u001b[1minput_line_42:3:8: \u001b[0m\u001b[0;1;31merror: \u001b[0m\u001b[1mno matching constructor for initialization of 'std::string' (aka 'basic_string<char>')\u001b[0m\n",
      "string line;\n",
      "\u001b[0;1;32m       ^\n",
      "\u001b[0m\u001b[1m/usr/include/c++/4.8/bits/basic_string.h:532:9: \u001b[0m\u001b[0;1;30mnote: \u001b[0mcandidate constructor template not viable: requires at least 2 arguments, but 0 were provided\u001b[0m\n",
      "        basic_string(_InputIterator __beg, _InputIterator __end,\n",
      "\u001b[0;1;32m        ^\n",
      "\u001b[0m\u001b[1m/usr/include/c++/4.8/bits/basic_string.h:448:7: \u001b[0m\u001b[0;1;30mnote: \u001b[0mcandidate constructor not viable: requires single argument '__a', but no arguments were provided\u001b[0m\n",
      "      basic_string(const _Alloc& __a);\n",
      "\u001b[0;1;32m      ^\n",
      "\u001b[0m\u001b[1m/usr/include/c++/4.8/bits/basic_string.h:455:7: \u001b[0m\u001b[0;1;30mnote: \u001b[0mcandidate constructor not viable: requires single argument '__str', but no arguments were provided\u001b[0m\n",
      "      basic_string(const basic_string& __str);\n",
      "\u001b[0;1;32m      ^\n",
      "\u001b[0m\u001b[1m/usr/include/c++/4.8/bits/basic_string.h:507:7: \u001b[0m\u001b[0;1;30mnote: \u001b[0mcandidate constructor not viable: requires single argument '__str', but no arguments were provided\u001b[0m\n",
      "      basic_string(basic_string&& __str) noexcept\n",
      "\u001b[0;1;32m      ^\n",
      "\u001b[0m\u001b[1m/usr/include/c++/4.8/bits/basic_string.h:490:7: \u001b[0m\u001b[0;1;30mnote: \u001b[0mcandidate constructor not viable: requires at least argument '__s', but no arguments were provided\u001b[0m\n",
      "      basic_string(const _CharT* __s, const _Alloc& __a = _Alloc());\n",
      "\u001b[0;1;32m      ^\n",
      "\u001b[0m\u001b[1m/usr/include/c++/4.8/bits/basic_string.h:522:7: \u001b[0m\u001b[0;1;30mnote: \u001b[0mcandidate constructor not viable: requires at least argument '__l', but no arguments were provided\u001b[0m\n",
      "      basic_string(initializer_list<_CharT> __l, const _Alloc& __a = _Alloc());\n",
      "\u001b[0;1;32m      ^\n",
      "\u001b[0m\u001b[1m/usr/include/c++/4.8/bits/basic_string.h:462:7: \u001b[0m\u001b[0;1;30mnote: \u001b[0mcandidate constructor not viable: requires at least 2 arguments, but 0 were provided\u001b[0m\n",
      "      basic_string(const basic_string& __str, size_type __pos,\n",
      "\u001b[0;1;32m      ^\n",
      "\u001b[0m\u001b[1m/usr/include/c++/4.8/bits/basic_string.h:483:7: \u001b[0m\u001b[0;1;30mnote: \u001b[0mcandidate constructor not viable: requires at least 2 arguments, but 0 were provided\u001b[0m\n",
      "      basic_string(const _CharT* __s, size_type __n,\n",
      "\u001b[0;1;32m      ^\n",
      "\u001b[0m\u001b[1m/usr/include/c++/4.8/bits/basic_string.h:497:7: \u001b[0m\u001b[0;1;30mnote: \u001b[0mcandidate constructor not viable: requires at least 2 arguments, but 0 were provided\u001b[0m\n",
      "      basic_string(size_type __n, _CharT __c, const _Alloc& __a = _Alloc());\n",
      "\u001b[0;1;32m      ^\n",
      "\u001b[0m\u001b[1m/usr/include/c++/4.8/bits/basic_string.h:471:7: \u001b[0m\u001b[0;1;30mnote: \u001b[0mcandidate constructor not viable: requires 4 arguments, but 0 were provided\u001b[0m\n",
      "      basic_string(const basic_string& __str, size_type __pos,\n",
      "\u001b[0;1;32m      ^\n",
      "\u001b[0m\u001b[1minput_line_42:4:10: \u001b[0m\u001b[0;1;31merror: \u001b[0m\u001b[1mno matching constructor for initialization of 'std::ofstream' (aka 'basic_ofstream<char>')\u001b[0m\n",
      "ofstream myfileI (\"loan_tran.csv\", ios::app);\n",
      "\u001b[0;1;32m         ^        ~~~~~~~~~~~~~~~~~~~~~~~~~\n",
      "\u001b[0m\u001b[1m/usr/include/c++/4.8/bits/fstream.tcc:968:25: \u001b[0m\u001b[0;1;30mnote: \u001b[0mcandidate constructor (the implicit copy constructor) not viable: requires 1 argument, but 2 were provided\u001b[0m\n",
      "  extern template class basic_ofstream<char>;\n",
      "\u001b[0;1;32m                        ^\n",
      "\u001b[0m\u001b[1m/usr/include/c++/4.8/fstream:625:7: \u001b[0m\u001b[0;1;30mnote: \u001b[0mcandidate constructor not viable: requires 0 arguments, but 2 were provided\u001b[0m\n",
      "      basic_ofstream(): __ostream_type(), _M_filebuf()\n",
      "\u001b[0;1;32m      ^\n",
      "\u001b[0m\u001b[1minput_line_42:12:14: \u001b[0m\u001b[0;1;31merror: \u001b[0m\u001b[1mno matching constructor for initialization of 'std::ifstream' (aka 'basic_ifstream<char>')\u001b[0m\n",
      "    ifstream myfileO (\"loan_tran.csv\");\n",
      "\u001b[0;1;32m             ^        ~~~~~~~~~~~~~~~\n",
      "\u001b[0m\u001b[1m/usr/include/c++/4.8/bits/fstream.tcc:967:25: \u001b[0m\u001b[0;1;30mnote: \u001b[0mcandidate constructor (the implicit copy constructor) not viable: no known conversion from 'const char [14]' to 'const std::basic_ifstream<char>' for 1st\n",
      "      argument\u001b[0m\n",
      "  extern template class basic_ifstream<char>;\n",
      "\u001b[0;1;32m                        ^\n",
      "\u001b[0m\u001b[1m/usr/include/c++/4.8/fstream:453:7: \u001b[0m\u001b[0;1;30mnote: \u001b[0mcandidate constructor not viable: requires 0 arguments, but 1 was provided\u001b[0m\n",
      "      basic_ifstream() : __istream_type(), _M_filebuf()\n",
      "\u001b[0;1;32m      ^\n",
      "\u001b[0m"
     ]
    },
    {
     "ename": "ename",
     "evalue": "evalue",
     "output_type": "error",
     "traceback": []
    }
   ],
   "source": [
    "//using namespace string;\n",
    "void f1(){\n",
    "string line;\n",
    "ofstream myfileI (\"loan_tran.csv\", ios::app);\n",
    "    if (myfileI.is_open())\n",
    "    {\n",
    "        myfileI << \"\\nI am adding a line.\\n\";\n",
    "        myfileI.close();\n",
    "    }\n",
    "    else cout << \"Unable to open file for writing\";\n",
    "    \n",
    "    ifstream myfileO (\"loan_tran.csv\");\n",
    "    if (myfileO.is_open())\n",
    "    {\n",
    "        while ( getline (myfileO,line) )\n",
    "        {\n",
    "            cout << line << '\\n';\n",
    "        }\n",
    "        myfileO.close();\n",
    "    }\n",
    "    else cout << \"Unable to open file for reading\";\n",
    "}\n",
    "f1()"
   ]
  }
 ],
 "metadata": {
  "kernelspec": {
   "display_name": "C++11",
   "language": "",
   "name": "cling-cpp11"
  },
  "language_info": {
   "codemirror_mode": "c++",
   "file_extension": ".c++",
   "mimetype": "text/x-c++src",
   "name": "c++"
  }
 },
 "nbformat": 4,
 "nbformat_minor": 2
}
