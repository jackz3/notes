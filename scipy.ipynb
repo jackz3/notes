{
 "cells": [
  {
   "cell_type": "code",
   "execution_count": 1,
   "metadata": {},
   "outputs": [],
   "source": [
    "import scipy.optimize as spo\n",
    "import numpy as np\n",
    "import matplotlib.pyplot as plt\n",
    "%matplotlib inline"
   ]
  },
  {
   "cell_type": "markdown",
   "metadata": {},
   "source": [
    "### minimal"
   ]
  },
  {
   "cell_type": "code",
   "execution_count": 40,
   "metadata": {},
   "outputs": [],
   "source": [
    "def error(line,data):\n",
    "    #line= slope,intercept\n",
    "    err=np.sum((data[:,1]-(line[0]*data[:,0]+line[1]))**2)\n",
    "    return err"
   ]
  },
  {
   "cell_type": "code",
   "execution_count": 41,
   "metadata": {},
   "outputs": [],
   "source": [
    "def fit_line(data,err_func):\n",
    "    l=np.float32([0,np.mean(data[:,1])]) #initial guess\n",
    "    x_ends=np.float32([-5,5])\n",
    "    print(x_ends)\n",
    "    plt.plot(x_ends,l[0]*x_ends+l[1],'m--',linewidth=1,label='initial guess')\n",
    "    result=spo.minimize(err_func,l,args=(data,),method='SLSQP',options={'disp':True})\n",
    "    return result.x"
   ]
  },
  {
   "cell_type": "code",
   "execution_count": 42,
   "metadata": {},
   "outputs": [],
   "source": [
    "def run():\n",
    "    l_orig=np.float32([4,2])\n",
    "    print('original line is slope={} y-intercept={}'.format(l_orig[0],l_orig[1]))\n",
    "    Xorig=np.linspace(0,10,21)\n",
    "    Yorig=l_orig[0]*Xorig+l_orig[1]\n",
    "    plt.plot(Xorig,Yorig,linewidth=1,label=\"original line\")\n",
    "    \n",
    "    noise_sigma=3.0 #std\n",
    "    noise=np.random.normal(0,noise_sigma,Yorig.shape)\n",
    "    data=np.asarray([Xorig,Yorig+noise]).T\n",
    "    plt.plot(data[:,0],data[:,1],'go',label='Data points')\n",
    "    \n",
    "    l_fit=fit_line(data,error)\n",
    "    print('filled line c0={} c1={}'.format(l_fit[0],l_fit[1]))\n",
    "    plt.plot(data[:,0],l_fit[0]*data[:,0]+l_fit[1],'r--',linewidth=1,label='fit line')"
   ]
  },
  {
   "cell_type": "code",
   "execution_count": 47,
   "metadata": {
    "scrolled": false
   },
   "outputs": [
    {
     "name": "stdout",
     "output_type": "stream",
     "text": [
      "original line is slope=4.0 y-intercept=2.0\n",
      "[-5.  5.]\n",
      "Optimization terminated successfully.    (Exit mode 0)\n",
      "            Current function value: 209.770945805\n",
      "            Iterations: 5\n",
      "            Function evaluations: 24\n",
      "            Gradient evaluations: 5\n",
      "filled line c0=4.278854067066728 c1=0.42930178679486775\n"
     ]
    },
    {
     "data": {
      "image/png": "[encoded data removed]",
      "text/plain": [
       "<matplotlib.figure.Figure at 0x7f59bda552e8>"
      ]
     },
     "metadata": {},
     "output_type": "display_data"
    }
   ],
   "source": [
    "run()"
   ]
  },
  {
   "cell_type": "markdown",
   "metadata": {},
   "source": [
    "```bash\n",
    "docker images\n",
    "#list lastest run\n",
    "docker ps -a\n",
    "#-p export_port:container_port -d detach_mode\n",
    "docker run -it -p 8080:3000 ubuntu -d\n",
    "docker commit -a \"author name &lt;youremail@email.com&gt;\" -m \"message\" CONTAINER-ID<==from-ps_-a node-express<==name:0.1<==tag\n",
    "docker tag node-express:0.1 node-express:latest <==add_new_tag\n",
    "docker rm CONTAINER_ID|CONTAINER_NAME\n",
    "docker logs CONTAINER_ID|CONTAINER_NAME\n",
    "docker inspect CONTAINER_ID||CONTAINER_NAME\n",
    "docker start|stop CONTAINER_ID||CONTAINER_NAME\n",
    "docker rmi<==remove_image IMAGE_ID\n",
    "\n",
    "docker login\n",
    "docker tag node-express docker_hub_username/node-express\n",
    "docker rmi node-express\n",
    "docker push docker_hub_username/node-express\n",
    "docker pull docker_hub_username/node-express\n",
    "docker-compose up <==startup&build_if_first_time\n",
    "docker-compose run --rm chat<=name_from_dock_compose.yml /bin/bash\n",
    "docker-compose build <==rebuild_image\n",
    "docker-compose -f<==specify_anohter_yml docker-compose.prod.yml<==yml_file_name up\n",
    "\n",
    "\n",
    "sudo docker logs 61bbde574ade | grep ERROR [-f]\n",
    "docker exec CONTAINER_NAME|CONTAINER_ID comand\n",
    "\n",
    "docker run --name mysql -p 3306:3306 -e MYSQL_ROOT_PASSWORD=j1234567 -d -v ~/code/data/docker/mysql:/var/lib/mysql\n",
    "docker run --name mysql57 -e MYSQL_ROOT_PASSWORD=j1234567 -v c:\\Users\\jack\\data\\mysql:/var/lib/mysql -p 3306:3306 -d mysql\n",
    "\n",
    "```"
   ]
  }
 ],
 "metadata": {
  "kernelspec": {
   "display_name": "Python 3",
   "language": "python",
   "name": "python3"
  },
  "language_info": {
   "codemirror_mode": {
    "name": "ipython",
    "version": 3
   },
   "file_extension": ".py",
   "mimetype": "text/x-python",
   "name": "python",
   "nbconvert_exporter": "python",
   "pygments_lexer": "ipython3",
   "version": "3.4.3"
  }
 },
 "nbformat": 4,
 "nbformat_minor": 2
}
