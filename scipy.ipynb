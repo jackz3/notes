{
 "cells": [
  {
   "cell_type": "code",
   "execution_count": 1,
   "metadata": {},
   "outputs": [],
   "source": [
    "import scipy.optimize as spo\n",
    "import numpy as np\n",
    "import matplotlib.pyplot as plt\n",
    "%matplotlib inline"
   ]
  },
  {
   "cell_type": "markdown",
   "metadata": {},
   "source": [
    "#### functions"
   ]
  },
  {
   "cell_type": "code",
   "execution_count": 1,
   "metadata": {
    "scrolled": true
   },
   "outputs": [
    {
     "name": "stderr",
     "output_type": "stream",
     "text": [
      "/home/nbuser/anaconda3_420/lib/python3.5/importlib/_bootstrap.py:222: RuntimeWarning: numpy.dtype size changed, may indicate binary incompatibility. Expected 96, got 88\n",
      "  return f(*args, **kwds)\n"
     ]
    }
   ],
   "source": [
    "import scipy.special #sigmoid function\n",
    "sigmoid=lambda x: scipy.special.expit(x)"
   ]
  },
  {
   "cell_type": "markdown",
   "metadata": {},
   "source": [
    "### minimal"
   ]
  },
  {
   "cell_type": "code",
   "execution_count": 2,
   "metadata": {},
   "outputs": [],
   "source": [
    "def error(line,data):\n",
    "    #line= slope,intercept\n",
    "    err=np.sum((data[:,1]-(line[0]*data[:,0]+line[1]))**2)\n",
    "    return err"
   ]
  },
  {
   "cell_type": "code",
   "execution_count": 3,
   "metadata": {},
   "outputs": [],
   "source": [
    "def fit_line(data,err_func):\n",
    "    l=np.float32([0,np.mean(data[:,1])]) #initial guess\n",
    "    x_ends=np.float32([-5,5])\n",
    "    print(x_ends)\n",
    "    plt.plot(x_ends,l[0]*x_ends+l[1],'m--',linewidth=1,label='initial guess')\n",
    "    result=spo.minimize(err_func,l,args=(data,),method='SLSQP',options={'disp':True})\n",
    "    return result.x"
   ]
  },
  {
   "cell_type": "code",
   "execution_count": 6,
   "metadata": {},
   "outputs": [],
   "source": [
    "def run():\n",
    "    l_orig=np.float32([4,2])\n",
    "    print('original line is slope={} y-intercept={}'.format(l_orig[0],l_orig[1]))\n",
    "    Xorig=np.linspace(0,10,21)\n",
    "    Yorig=l_orig[0]*Xorig+l_orig[1]\n",
    "    plt.plot(Xorig,Yorig,linewidth=1,label=\"original line\")\n",
    "    \n",
    "    noise_sigma=3.0 #std\n",
    "    noise=np.random.normal(0,noise_sigma,Yorig.shape)\n",
    "    data=np.asarray([Xorig,Yorig+noise]).T\n",
    "    print(data)\n",
    "    plt.plot(data[:,0],data[:,1],'go',label='Data points')\n",
    "    \n",
    "    l_fit=fit_line(data,error)\n",
    "    print('filled line c0={} c1={}'.format(l_fit[0],l_fit[1]))\n",
    "    plt.plot(data[:,0],l_fit[0]*data[:,0]+l_fit[1],'r--',linewidth=1,label='fit line')"
   ]
  },
  {
   "cell_type": "code",
   "execution_count": 7,
   "metadata": {
    "scrolled": false
   },
   "outputs": [
    {
     "name": "stdout",
     "output_type": "stream",
     "text": [
      "original line is slope=4.0 y-intercept=2.0\n",
      "[[ 0.          4.92168916]\n",
      " [ 0.5         7.11559413]\n",
      " [ 1.          5.94105773]\n",
      " [ 1.5         2.7454513 ]\n",
      " [ 2.          6.60767641]\n",
      " [ 2.5        14.73164184]\n",
      " [ 3.         12.34758815]\n",
      " [ 3.5        17.05552243]\n",
      " [ 4.         17.19007034]\n",
      " [ 4.5        18.61589378]\n",
      " [ 5.         21.28381991]\n",
      " [ 5.5        27.22425435]\n",
      " [ 6.         27.22682688]\n",
      " [ 6.5        29.14432241]\n",
      " [ 7.         27.39360614]\n",
      " [ 7.5        28.45405337]\n",
      " [ 8.         32.28213326]\n",
      " [ 8.5        39.04274213]\n",
      " [ 9.         36.86421553]\n",
      " [ 9.5        45.27330663]\n",
      " [10.         45.50272501]]\n",
      "[-5.  5.]\n",
      "Optimization terminated successfully.    (Exit mode 0)\n",
      "            Current function value: 152.29351441930277\n",
      "            Iterations: 5\n",
      "            Function evaluations: 24\n",
      "            Gradient evaluations: 5\n",
      "filled line c0=4.15191356280638 c1=1.4768285603701552\n"
     ]
    },
    {
     "data": {
      "image/png": "[encoded data removed]",
      "text/plain": [
       "<Figure size 432x288 with 1 Axes>"
      ]
     },
     "metadata": {},
     "output_type": "display_data"
    }
   ],
   "source": [
    "run()"
   ]
  },
  {
   "cell_type": "code",
   "execution_count": null,
   "metadata": {},
   "outputs": [],
   "source": []
  }
 ],
 "metadata": {
  "kernelspec": {
   "display_name": "Python 3",
   "language": "python",
   "name": "python3"
  },
  "language_info": {
   "codemirror_mode": {
    "name": "ipython",
    "version": 3
   },
   "file_extension": ".py",
   "mimetype": "text/x-python",
   "name": "python",
   "nbconvert_exporter": "python",
   "pygments_lexer": "ipython3",
   "version": "3.5.4"
  }
 },
 "nbformat": 4,
 "nbformat_minor": 2
}
