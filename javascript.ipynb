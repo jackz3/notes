{
 "cells": [
  {
   "cell_type": "markdown",
   "metadata": {},
   "source": [
    "```bash\n",
    "npm install -g ijavascript\n",
    "ijsinstall\n",
    "```"
   ]
  },
  {
   "cell_type": "code",
   "execution_count": 1,
   "metadata": {},
   "outputs": [
    {
     "name": "stdout",
     "output_type": "stream",
     "text": [
      "{ name: 'Sophie', shape: 'fox', condition: 'new' }\n"
     ]
    }
   ],
   "source": [
    "const weirdoString = `name:Sophie;shape:fox;condition:new`\n",
    "const result = querystring.parse(weirdoString, `;`, `:`)\n",
    "console.log(result)"
   ]
  },
  {
   "cell_type": "code",
   "execution_count": 2,
   "metadata": {},
   "outputs": [],
   "source": [
    "const _ =require('lodash')"
   ]
  },
  {
   "cell_type": "code",
   "execution_count": 3,
   "metadata": {},
   "outputs": [
    {
     "name": "stdout",
     "output_type": "stream",
     "text": [
      "aaa\n",
      "aaa\n",
      "aaa\n",
      "aaa\n",
      "aaa\n"
     ]
    },
    {
     "data": {
      "text/plain": [
       "[ undefined, undefined, undefined, undefined, undefined ]"
      ]
     },
     "execution_count": 3,
     "metadata": {},
     "output_type": "execute_result"
    }
   ],
   "source": [
    "_.times(5, function(){\n",
    "    console.log('aaa')\n",
    "});"
   ]
  },
  {
   "cell_type": "code",
   "execution_count": 6,
   "metadata": {},
   "outputs": [
    {
     "name": "stdout",
     "output_type": "stream",
     "text": [
      "Hello, world!\n"
     ]
    },
    {
     "data": {
      "text/plain": [
       "'Bye!'"
      ]
     },
     "execution_count": 6,
     "metadata": {},
     "output_type": "execute_result"
    }
   ],
   "source": [
    "$$.async()\n",
    "let cell = {\n",
    "    $$: $$,\n",
    "    console: console,\n",
    "}\n",
    "setTimeout(()=> {\n",
    "    console.log(\"Hello, world!\");\n",
    "    cell.$$.sendResult(\"ok!\")\n",
    "}, 2000)"
   ]
  },
  {
   "cell_type": "code",
   "execution_count": 1,
   "metadata": {},
   "outputs": [],
   "source": [
    "var re=/[\\u4e00-\\u9fa5].+/\n",
    "var reCh=/^[\\u4e00-\\u9fa5]+/"
   ]
  },
  {
   "cell_type": "code",
   "execution_count": 21,
   "metadata": {},
   "outputs": [
    {
     "ename": "SyntaxError",
     "evalue": "Identifier 'title' has already been declared",
     "output_type": "error",
     "traceback": [
      "evalmachine.<anonymous>:1",
      "const title='ab辣椒 西瓜cd'",
      "^",
      "",
      "SyntaxError: Identifier 'title' has already been declared",
      "    at evalmachine.<anonymous>:1:1",
      "    at ContextifyScript.Script.runInThisContext (vm.js:50:33)",
      "    at Object.runInThisContext (vm.js:139:38)",
      "    at run ([eval]:1002:15)",
      "    at onRunRequest ([eval]:829:18)",
      "    at onMessage ([eval]:789:13)",
      "    at emitTwo (events.js:126:13)",
      "    at process.emit (events.js:214:7)",
      "    at emit (internal/child_process.js:772:12)",
      "    at _combinedTickCallback (internal/process/next_tick.js:141:11)"
     ]
    }
   ],
   "source": [
    "const title='ab辣椒 西瓜cd'\n",
    "const title2='ss乐峰fee凡人r'"
   ]
  },
  {
   "cell_type": "code",
   "execution_count": 22,
   "metadata": {},
   "outputs": [],
   "source": [
    "var title3='fe辣椒 f游戏 是西瓜cd'"
   ]
  },
  {
   "cell_type": "code",
   "execution_count": 24,
   "metadata": {},
   "outputs": [
    {
     "name": "stdout",
     "output_type": "stream",
     "text": [
      "辣椒 f游戏 是西瓜cd\n",
      "辣椒 f游戏 是西瓜c\n",
      "辣椒 f游戏 是西瓜\n",
      "辣椒 f游戏 是西\n",
      "辣椒 f游戏 是\n",
      "辣椒 f游戏\n",
      "辣椒 f游戏\n",
      "辣椒 f游\n",
      "辣椒 f\n",
      "辣椒\n",
      "辣椒\n",
      "辣\n",
      "椒 f游戏 是西瓜cd\n",
      "椒 f游戏 是西瓜c\n",
      "椒 f游戏 是西瓜\n",
      "椒 f游戏 是西\n",
      "椒 f游戏 是\n",
      "椒 f游戏\n",
      "椒 f游戏\n",
      "椒 f游\n",
      "椒 f\n",
      "椒\n",
      "椒\n",
      "游戏 是西瓜cd\n",
      "游戏 是西瓜c\n",
      "游戏 是西瓜\n",
      "游戏 是西\n",
      "游戏 是\n",
      "游戏\n",
      "游戏\n",
      "游\n",
      "戏 是西瓜cd\n",
      "戏 是西瓜c\n",
      "戏 是西瓜\n",
      "戏 是西\n",
      "戏 是\n",
      "戏\n",
      "戏\n",
      "是西瓜cd\n",
      "是西瓜c\n",
      "是西瓜\n",
      "是西\n",
      "是\n",
      "是西瓜cd\n",
      "是西瓜c\n",
      "是西瓜\n",
      "是西\n",
      "是\n",
      "西瓜cd\n",
      "西瓜c\n",
      "西瓜\n",
      "西\n",
      "瓜cd\n",
      "瓜c\n",
      "瓜\n",
      "Set {\n",
      "  '辣椒 f游戏 是西瓜cd',\n",
      "  '辣椒 f游戏 是西瓜c',\n",
      "  '辣椒 f游戏 是西瓜',\n",
      "  '辣椒 f游戏 是西',\n",
      "  '辣椒 f游戏 是',\n",
      "  '辣椒 f游戏',\n",
      "  '辣椒 f游',\n",
      "  '辣椒 f',\n",
      "  '辣椒',\n",
      "  '辣',\n",
      "  '椒 f游戏 是西瓜cd',\n",
      "  '椒 f游戏 是西瓜c',\n",
      "  '椒 f游戏 是西瓜',\n",
      "  '椒 f游戏 是西',\n",
      "  '椒 f游戏 是',\n",
      "  '椒 f游戏',\n",
      "  '椒 f游',\n",
      "  '椒 f',\n",
      "  '椒',\n",
      "  '游戏 是西瓜cd',\n",
      "  '游戏 是西瓜c',\n",
      "  '游戏 是西瓜',\n",
      "  '游戏 是西',\n",
      "  '游戏 是',\n",
      "  '游戏',\n",
      "  '游',\n",
      "  '戏 是西瓜cd',\n",
      "  '戏 是西瓜c',\n",
      "  '戏 是西瓜',\n",
      "  '戏 是西',\n",
      "  '戏 是',\n",
      "  '戏',\n",
      "  '是西瓜cd',\n",
      "  '是西瓜c',\n",
      "  '是西瓜',\n",
      "  '是西',\n",
      "  '是',\n",
      "  '西瓜cd',\n",
      "  '西瓜c',\n",
      "  '西瓜',\n",
      "  '西',\n",
      "  '瓜cd',\n",
      "  '瓜c',\n",
      "  '瓜' }\n"
     ]
    }
   ],
   "source": [
    "var match=title3.match(re)\n",
    "var titles= new Set()\n",
    "var excludes = ['游戏','攻略','网易','腾讯']\n",
    "if(match){\n",
    "    const t=match[0]\n",
    "    const len=t.length\n",
    "    for(let i=0;i<len;i++){\n",
    "        let t1 = t.slice(i).trim()\n",
    "        if(!reCh.test(t1)){\n",
    "            continue\n",
    "        }\n",
    "        titles.add(t1)\n",
    "        console.log(t1)\n",
    "        const len2= t1.length\n",
    "        for(let j=1;j<len2;j++){\n",
    "            let t2=t1.slice(0,-j).trim()\n",
    "            titles.add(t2)\n",
    "            console.log(t2)\n",
    "        }\n",
    "    }\n",
    "}\n",
    "console.log(titles)"
   ]
  },
  {
   "cell_type": "code",
   "execution_count": 14,
   "metadata": {},
   "outputs": [
    {
     "data": {
      "text/plain": [
       "true"
      ]
     },
     "execution_count": 14,
     "metadata": {},
     "output_type": "execute_result"
    }
   ],
   "source": [
    "re.test(' 西瓜cd')"
   ]
  },
  {
   "cell_type": "code",
   "execution_count": 14,
   "metadata": {},
   "outputs": [],
   "source": [
    "const moment=require('moment')"
   ]
  },
  {
   "cell_type": "code",
   "execution_count": 16,
   "metadata": {},
   "outputs": [
    {
     "data": {
      "text/plain": [
       "moment(\"2018-02-27T12:00:35.000\")"
      ]
     },
     "execution_count": 16,
     "metadata": {},
     "output_type": "execute_result"
    }
   ],
   "source": [
    "moment('12:35','hh:ss')"
   ]
  },
  {
   "cell_type": "code",
   "execution_count": null,
   "metadata": {},
   "outputs": [],
   "source": []
  }
 ],
 "metadata": {
  "kernelspec": {
   "display_name": "Javascript (Node.js)",
   "language": "javascript",
   "name": "javascript"
  },
  "language_info": {
   "file_extension": ".js",
   "mimetype": "application/javascript",
   "name": "javascript",
   "version": "8.9.4"
  }
 },
 "nbformat": 4,
 "nbformat_minor": 2
}
