{
 "cells": [
  {
   "cell_type": "code",
   "execution_count": 4,
   "metadata": {
    "scrolled": false
   },
   "outputs": [
    {
     "name": "stdout",
     "output_type": "stream",
     "text": [
      "\n",
      "blaa\n"
     ]
    },
    {
     "data": {
      "text/plain": [
       "'a'"
      ]
     },
     "execution_count": 4,
     "metadata": {},
     "output_type": "execute_result"
    }
   ],
   "source": [
    "# // js comments\n",
    "# console.log\n",
    "print()\n",
    "# prompt('bla')\n",
    "input('bla')"
   ]
  },
  {
   "cell_type": "markdown",
   "metadata": {},
   "source": [
    "#### primary types"
   ]
  },
  {
   "cell_type": "code",
   "execution_count": 35,
   "metadata": {},
   "outputs": [
    {
     "data": {
      "text/plain": [
       "NoneType"
      ]
     },
     "execution_count": 35,
     "metadata": {},
     "output_type": "execute_result"
    }
   ],
   "source": [
    "# true | false\n",
    "True, False\n",
    "# null\n",
    "a = None\n",
    "# typeof a\n",
    "type(a)"
   ]
  },
  {
   "cell_type": "markdown",
   "metadata": {},
   "source": [
    "#### expression"
   ]
  },
  {
   "cell_type": "code",
   "execution_count": 20,
   "metadata": {},
   "outputs": [
    {
     "name": "stdout",
     "output_type": "stream",
     "text": [
      "[3, 4, 5, 6, 7, 8]\n"
     ]
    }
   ],
   "source": [
    "# let x=1\n",
    "x=1\n",
    "# let [x,y]=[1,2]\n",
    "x,y=[ 1,2 ]\n",
    "x,y=(1,2)\n",
    "# [a, b, ...rest] = [10, 20, 30, 40, 50]\n",
    "a, b, *c, d = [1, 2, 3, 4, 5, 6, 7, 8, 9]\n",
    "print(c)"
   ]
  },
  {
   "cell_type": "code",
   "execution_count": 21,
   "metadata": {},
   "outputs": [],
   "source": [
    "# b=a>5?1:2\n",
    "b = 1 if a >5 else 2"
   ]
  },
  {
   "cell_type": "code",
   "execution_count": 52,
   "metadata": {},
   "outputs": [
    {
     "data": {
      "text/plain": [
       "True"
      ]
     },
     "execution_count": 52,
     "metadata": {},
     "output_type": "execute_result"
    }
   ],
   "source": [
    "# true && false || true\n",
    "True and False or True"
   ]
  },
  {
   "cell_type": "code",
   "execution_count": 54,
   "metadata": {},
   "outputs": [
    {
     "data": {
      "text/plain": [
       "False"
      ]
     },
     "execution_count": 54,
     "metadata": {},
     "output_type": "execute_result"
    }
   ],
   "source": [
    "# js Boolean([]) === true\n",
    "bool([])"
   ]
  },
  {
   "cell_type": "markdown",
   "metadata": {},
   "source": [
    "#### type casting"
   ]
  },
  {
   "cell_type": "code",
   "execution_count": 12,
   "metadata": {},
   "outputs": [
    {
     "name": "stdout",
     "output_type": "stream",
     "text": [
      "1.3333333333333333\n"
     ]
    },
    {
     "data": {
      "text/plain": [
       "(0, 0.0, '')"
      ]
     },
     "execution_count": 12,
     "metadata": {},
     "output_type": "execute_result"
    }
   ],
   "source": [
    "# implicit,4/3=1.333333\n",
    "# python need cast type explict\n",
    "print(4/3)\n",
    "# parseInt(),parseFloat(),toString()\n",
    "int(),float(),str()"
   ]
  },
  {
   "cell_type": "markdown",
   "metadata": {},
   "source": [
    "#### string"
   ]
  },
  {
   "cell_type": "code",
   "execution_count": 36,
   "metadata": {
    "scrolled": true
   },
   "outputs": [
    {
     "name": "stdout",
     "output_type": "stream",
     "text": [
      "bla\n",
      "blabla\n",
      "bla\n"
     ]
    }
   ],
   "source": [
    "# `bla\\nbla`\n",
    "s = \"\"\"bla\n",
    "bla\"\"\"\n",
    "print(s*2)"
   ]
  },
  {
   "cell_type": "code",
   "execution_count": 43,
   "metadata": {},
   "outputs": [
    {
     "data": {
      "text/plain": [
       "['bla', 'bla']"
      ]
     },
     "execution_count": 43,
     "metadata": {},
     "output_type": "execute_result"
    }
   ],
   "source": [
    "# s.length\n",
    "len(s)\n",
    "# s.indexOf('a')\n",
    "s.find('a')\n",
    "# s.toUpperCase() s.toLowerCase()\n",
    "s.upper(), s.lower()\n",
    "# s.startsWith('bl') s.endsWidth('a')\n",
    "s.startswith('bl'), s.endswith('a')\n",
    "# s + arr.join('')\n",
    "s.join(['a','b'])\n",
    "# s.split(/\\r\\n|\\r|\\n/)\n",
    "s.splitlines()"
   ]
  },
  {
   "cell_type": "code",
   "execution_count": 44,
   "metadata": {
    "scrolled": true
   },
   "outputs": [
    {
     "data": {
      "text/plain": [
       "2"
      ]
     },
     "execution_count": 44,
     "metadata": {},
     "output_type": "execute_result"
    }
   ],
   "source": [
    "s.count('b') # count sub string"
   ]
  },
  {
   "cell_type": "code",
   "execution_count": 47,
   "metadata": {},
   "outputs": [
    {
     "data": {
      "text/plain": [
       "\"I'm Vamei. I'm 99 \""
      ]
     },
     "execution_count": 47,
     "metadata": {},
     "output_type": "execute_result"
    }
   ],
   "source": [
    "# `${x||5}, ${y||12}`\n",
    "\"{x}, {y}\".format(x=5, y=12)\n",
    "\"{0} {1}\".format('Marco', 'Polo')\n",
    "\"I'm %s.\" % 'Vamei'\n",
    "\"I'm %s. I'm %d \" % ('Vamei', 99)"
   ]
  },
  {
   "cell_type": "code",
   "execution_count": 50,
   "metadata": {},
   "outputs": [
    {
     "data": {
      "text/plain": [
       "'alb\\nalb'"
      ]
     },
     "execution_count": 50,
     "metadata": {},
     "output_type": "execute_result"
    }
   ],
   "source": [
    "# s.slice(-1)\n",
    "s[-1]\n",
    "# str.slice()\n",
    "s[:]\n",
    "# str.slice(1)\n",
    "s[1:]\n",
    "# str.slice(0,2)\n",
    "s[:2]\n",
    "# str.slice(1,2)\n",
    "s[1:2]\n",
    "s[::-1] # reverse"
   ]
  },
  {
   "cell_type": "markdown",
   "metadata": {},
   "source": [
    "#### list"
   ]
  },
  {
   "cell_type": "code",
   "execution_count": 58,
   "metadata": {},
   "outputs": [
    {
     "data": {
      "text/plain": [
       "[2, 1]"
      ]
     },
     "execution_count": 58,
     "metadata": {},
     "output_type": "execute_result"
    }
   ],
   "source": [
    "lst = []\n",
    "lst2 = []\n",
    "# array.push(1)\n",
    "lst.append(1)\n",
    "# array.length\n",
    "len(list)\n",
    "# Math.max.apply(null,array)\n",
    "max(list)\n",
    "min(list)\n",
    "# array.splice(index,0,val)\n",
    "list.insert(0, 2)\n",
    "# array.indexOf(val)\n",
    "list.index(1)\n",
    "# arr1.concat(arr2)\n",
    "list + list2"
   ]
  },
  {
   "cell_type": "code",
   "execution_count": 70,
   "metadata": {},
   "outputs": [
    {
     "ename": "TypeError",
     "evalue": "'range' object is not callable",
     "output_type": "error",
     "traceback": [
      "\u001b[0;31m---------------------------------------------------------------------------\u001b[0m",
      "\u001b[0;31mTypeError\u001b[0m                                 Traceback (most recent call last)",
      "\u001b[0;32m<ipython-input-70-2fded0d3f43a>\u001b[0m in \u001b[0;36m<module>\u001b[0;34m()\u001b[0m\n\u001b[0;32m----> 1\u001b[0;31m \u001b[0mlist\u001b[0m \u001b[0;34m=\u001b[0m \u001b[0mlist\u001b[0m\u001b[0;34m(\u001b[0m\u001b[0mrange\u001b[0m\u001b[0;34m(\u001b[0m\u001b[0;36m1\u001b[0m\u001b[0;34m,\u001b[0m\u001b[0;36m10\u001b[0m\u001b[0;34m,\u001b[0m\u001b[0;36m2\u001b[0m\u001b[0;34m)\u001b[0m\u001b[0;34m)\u001b[0m \u001b[0;31m# from, to, step\u001b[0m\u001b[0;34m\u001b[0m\u001b[0m\n\u001b[0m\u001b[1;32m      2\u001b[0m \u001b[0;34m\u001b[0m\u001b[0m\n\u001b[1;32m      3\u001b[0m \u001b[0;31m#list.remove(2) # remove first match item from list\u001b[0m\u001b[0;34m\u001b[0m\u001b[0;34m\u001b[0m\u001b[0m\n\u001b[1;32m      4\u001b[0m \u001b[0mlist\u001b[0m\u001b[0;34m.\u001b[0m\u001b[0mcount\u001b[0m\u001b[0;34m(\u001b[0m\u001b[0;36m2\u001b[0m\u001b[0;34m)\u001b[0m \u001b[0;31m# count item times\u001b[0m\u001b[0;34m\u001b[0m\u001b[0m\n\u001b[1;32m      5\u001b[0m \u001b[0;31m#list * 3\u001b[0m\u001b[0;34m\u001b[0m\u001b[0;34m\u001b[0m\u001b[0m\n",
      "\u001b[0;31mTypeError\u001b[0m: 'range' object is not callable"
     ]
    }
   ],
   "source": [
    "list = list(range(1,10,2)) # from, to, step \n",
    "list.remove(2) # remove first match item from list\n",
    "list.count(2) # count item times\n",
    "list * 3"
   ]
  },
  {
   "cell_type": "code",
   "execution_count": 62,
   "metadata": {
    "scrolled": true
   },
   "outputs": [
    {
     "name": "stdout",
     "output_type": "stream",
     "text": [
      "2\n",
      "False\n",
      "0\n",
      "1\n",
      "2\n",
      "3\n",
      "4\n"
     ]
    }
   ],
   "source": [
    "# for(let item of array)\n",
    "# for(let index in list)\n",
    "# array.forEach\n",
    "for item in list:\n",
    "    print(item)\n",
    "# array.includes(x)\n",
    "print(1 in list) # or not in\n",
    "# for(let i=0;i<n;i++)\n",
    "for i in range(3):\n",
    "    print(i)\n",
    "# array.slice(from[,to])\n",
    "list[]\n",
    "# array.filter(x=>x%2==0).map(x=>x*2)\n",
    "[i*2 for i in list if i%2==0]\n",
    "# array.every(i=>i>5)\n",
    "all([i>5 for i in list])\n",
    "# array.any(i=>i>3)\n",
    "any([i>3 for i in list])\n",
    "# generate\n",
    "for v in enumerate(list):\n",
    "# Array(n).fill().map(x=>Math.random()>0.5)\n",
    "[random.random()>0.5 for x in range(n)]\n",
    "# 'abc'.split('')\n",
    "list('abc')"
   ]
  },
  {
   "cell_type": "markdown",
   "metadata": {},
   "source": [
    "#### tuple"
   ]
  },
  {
   "cell_type": "code",
   "execution_count": 71,
   "metadata": {},
   "outputs": [],
   "source": [
    "tp = (\"spam\", \"eggs\", \"sausages\",)"
   ]
  },
  {
   "cell_type": "markdown",
   "metadata": {},
   "source": [
    "#### set"
   ]
  },
  {
   "cell_type": "code",
   "execution_count": 73,
   "metadata": {},
   "outputs": [],
   "source": [
    "# let s=new Set()\n",
    "# let s2=new Set([1,2])\"\n",
    "s=set()\n",
    "s2={1,2}\n",
    "# s.delete(1)\n",
    "s2.remove(1)"
   ]
  },
  {
   "cell_type": "code",
   "execution_count": 74,
   "metadata": {},
   "outputs": [
    {
     "name": "stdout",
     "output_type": "stream",
     "text": [
      "{1, 2, 3, 4, 5, 6, 7, 8, 9}\n",
      "{4, 5, 6}\n",
      "{1, 2, 3}\n",
      "{1, 2, 3, 7, 8, 9}\n"
     ]
    }
   ],
   "source": [
    "first = {1, 2, 3, 4, 5, 6}\n",
    "second = {4, 5, 6, 7, 8, 9}\n",
    "print(first | second) # union\n",
    "print(first & second) # intersection,gets items only in both\n",
    "print(first - second) #difference,gets items in the first set but not in the second\n",
    "print(first ^ second) #symmetric difference,gets items in either set, but not both."
   ]
  },
  {
   "cell_type": "markdown",
   "metadata": {},
   "source": [
    "#### dictionary"
   ]
  },
  {
   "cell_type": "code",
   "execution_count": null,
   "metadata": {},
   "outputs": [],
   "source": [
    "# ages = {\"Dave\": 24, \"Mary\": 42, \"John\": 58}\n",
    "# ages.Dave\n",
    "ages = {\"Dave\": 24, \"Mary\": 42, \"John\": 58}\n",
    "ages[“Dave”] # key must immutable and use quoted, muse use obj[key] form\n",
    "key not exist cause error\"\n",
    "ages.get(\"Dave\", 'defaultValue') # key not exist return None\n",
    "# !ages[‘3’]\n",
    "3 not in ages"
   ]
  },
  {
   "cell_type": "markdown",
   "metadata": {},
   "source": [
    "#### structure"
   ]
  },
  {
   "cell_type": "code",
   "execution_count": 82,
   "metadata": {},
   "outputs": [
    {
     "ename": "IndentationError",
     "evalue": "expected an indented block (<ipython-input-82-22ab81f27799>, line 5)",
     "output_type": "error",
     "traceback": [
      "\u001b[0;36m  File \u001b[0;32m\"<ipython-input-82-22ab81f27799>\"\u001b[0;36m, line \u001b[0;32m5\u001b[0m\n\u001b[0;31m    elif True:\u001b[0m\n\u001b[0m       ^\u001b[0m\n\u001b[0;31mIndentationError\u001b[0m\u001b[0;31m:\u001b[0m expected an indented block\n"
     ]
    }
   ],
   "source": [
    "# if (expr)\n",
    "if True:\n",
    "    print()\n",
    "# else if(expr)\n",
    "elif True:\n",
    "    print()\n",
    "# else\n",
    "else:\n",
    "    print()\n",
    "#while(expr)\n",
    "while False:\n",
    "    print()"
   ]
  },
  {
   "cell_type": "code",
   "execution_count": 86,
   "metadata": {},
   "outputs": [
    {
     "name": "stdout",
     "output_type": "stream",
     "text": [
      "Unbroken 1\n"
     ]
    }
   ],
   "source": [
    "for i in range(10): \n",
    "    if i == 999:\n",
    "       break\n",
    "else: # for | while + else\n",
    "    print(\"Unbroken 1\")"
   ]
  },
  {
   "cell_type": "code",
   "execution_count": 97,
   "metadata": {},
   "outputs": [
    {
     "name": "stdout",
     "output_type": "stream",
     "text": [
      "\n"
     ]
    }
   ],
   "source": [
    "# try{}catch(errortype){}catch(ex){}finally{}\n",
    "try:\n",
    "    print()\n",
    "except exceptionname:\n",
    "    print()\n",
    "except:\n",
    "    print()\n",
    "finally:\n",
    "    1 + 1"
   ]
  },
  {
   "cell_type": "code",
   "execution_count": 98,
   "metadata": {},
   "outputs": [
    {
     "ename": "Exception",
     "evalue": "x",
     "output_type": "error",
     "traceback": [
      "\u001b[0;31m---------------------------------------------------------------------------\u001b[0m",
      "\u001b[0;31mException\u001b[0m                                 Traceback (most recent call last)",
      "\u001b[0;32m<ipython-input-98-98d2e92bd3cb>\u001b[0m in \u001b[0;36m<module>\u001b[0;34m()\u001b[0m\n\u001b[1;32m      1\u001b[0m \u001b[0;31m# throw err(x)\u001b[0m\u001b[0;34m\u001b[0m\u001b[0;34m\u001b[0m\u001b[0m\n\u001b[0;32m----> 2\u001b[0;31m \u001b[0;32mraise\u001b[0m \u001b[0mException\u001b[0m\u001b[0;34m(\u001b[0m\u001b[0;34m'x'\u001b[0m\u001b[0;34m)\u001b[0m\u001b[0;34m\u001b[0m\u001b[0m\n\u001b[0m",
      "\u001b[0;31mException\u001b[0m: x"
     ]
    }
   ],
   "source": [
    "# throw err(x)\n",
    "raise Exception('x')"
   ]
  },
  {
   "cell_type": "code",
   "execution_count": 95,
   "metadata": {},
   "outputs": [
    {
     "name": "stdout",
     "output_type": "stream",
     "text": [
      "1.0\n",
      "5\n"
     ]
    }
   ],
   "source": [
    "try:\n",
    "    print(1/0)\n",
    "except ZeroDivisionError:\n",
    "    print(4)\n",
    "else:\n",
    "    print(5) # the code is only executed if no error occurs in the try statement\n"
   ]
  },
  {
   "cell_type": "markdown",
   "metadata": {},
   "source": [
    "#### function"
   ]
  },
  {
   "cell_type": "code",
   "execution_count": 100,
   "metadata": {},
   "outputs": [
    {
     "name": "stdout",
     "output_type": "stream",
     "text": [
      "{'b': 8, 'a': 7}\n"
     ]
    }
   ],
   "source": [
    "# let myfunc=function(x,y)\n",
    "def myfunc(x,y):\n",
    "    print()\n",
    "# no return js return undefined\n",
    "# py return None without return statemen \n",
    "# function myfunc(fn,x,y) callback fn\n",
    "def myfunc(func,x,y): # function as param,”func\" is fixed param name\n",
    "    print()\n",
    "# function fn(named_arg,...args){}\n",
    "# function f(...[a, b, c]) {return a + b + c}\n",
    "def fn(named_arg, *args): # Using *args as a function parameter to pass an arbitrary number of arguments to that function. The arguments are then accessible as the tuple args\n",
    "    print(named_arg)\n",
    "    print(args)\n",
    "# function(x,food='bla',y)\n",
    "def function(x, y, food=\"spam\"): # a default value must come after named parameters without a default value.\n",
    "    print(food)\n",
    "def my_func(x, y=7, *args, **kwargs): # **kwargs arguments return a dictionary in which the keys are the argument names. and the values are the argument values.\n",
    "    print(kwargs)\n",
    "my_func(2, 3, 4, 5, 6, a=7, b=8)"
   ]
  },
  {
   "cell_type": "markdown",
   "metadata": {},
   "source": [
    "#### math"
   ]
  },
  {
   "cell_type": "code",
   "execution_count": 32,
   "metadata": {},
   "outputs": [
    {
     "data": {
      "text/plain": [
       "0.06497954657440008"
      ]
     },
     "execution_count": 32,
     "metadata": {},
     "output_type": "execute_result"
    }
   ],
   "source": [
    "# Math.abs(-1)\n",
    "abs(-1),round(1.2),max(1,2),min(1,2),sum([])\n",
    "# Math.PI Math.E\n",
    "import math\n",
    "math.pi, math.e, math.cos(math.pi)\n",
    "# Math.random()\n",
    "import random\n",
    "random.random()"
   ]
  }
 ],
 "metadata": {
  "kernelspec": {
   "display_name": "Python 3",
   "language": "python",
   "name": "python3"
  },
  "language_info": {
   "codemirror_mode": {
    "name": "ipython",
    "version": 3
   },
   "file_extension": ".py",
   "mimetype": "text/x-python",
   "name": "python",
   "nbconvert_exporter": "python",
   "pygments_lexer": "ipython3",
   "version": "3.4.3"
  }
 },
 "nbformat": 4,
 "nbformat_minor": 2
}
