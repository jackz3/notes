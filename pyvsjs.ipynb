{
  "cells": [
    {
      "metadata": {},
      "cell_type": "markdown",
      "source": "#### comment"
    },
    {
      "metadata": {
        "scrolled": false,
        "trusted": false
      },
      "cell_type": "code",
      "source": "# comments == js // comments\n'''\nmulti lines == /* */\n'''",
      "execution_count": 1,
      "outputs": [
        {
          "data": {
            "text/plain": "'\\nmulti lines == /* */\\n'"
          },
          "execution_count": 1,
          "metadata": {},
          "output_type": "execute_result"
        }
      ]
    },
    {
      "metadata": {
        "trusted": false
      },
      "cell_type": "code",
      "source": "# console.log\nprint()\n# prompt('bla')\ninput('bla')",
      "execution_count": 2,
      "outputs": [
        {
          "name": "stdout",
          "output_type": "stream",
          "text": "\nbla\n"
        },
        {
          "data": {
            "text/plain": "''"
          },
          "execution_count": 2,
          "metadata": {},
          "output_type": "execute_result"
        }
      ]
    },
    {
      "metadata": {},
      "cell_type": "markdown",
      "source": "#### primary types"
    },
    {
      "metadata": {
        "trusted": false
      },
      "cell_type": "code",
      "source": "# true, false, null\nTrue, False, None\n# null\na = None\n# typeof a\ntype(a)",
      "execution_count": 3,
      "outputs": [
        {
          "data": {
            "text/plain": "NoneType"
          },
          "execution_count": 3,
          "metadata": {},
          "output_type": "execute_result"
        }
      ]
    },
    {
      "metadata": {},
      "cell_type": "markdown",
      "source": "#### expression"
    },
    {
      "metadata": {
        "trusted": false
      },
      "cell_type": "code",
      "source": "# let x=1\nx=1\n# let [x,y]=[1,2]\nx,y=[1,2]\nx,y=1,2\n# [a, b, ...rest] = [10, 20, 30, 40, 50]\na, b, *c, d = [1, 2, 3, 4, 5, 6, 7, 8, 9]\nprint(c)",
      "execution_count": 4,
      "outputs": [
        {
          "name": "stdout",
          "output_type": "stream",
          "text": "[3, 4, 5, 6, 7, 8]\n"
        }
      ]
    },
    {
      "metadata": {
        "trusted": false
      },
      "cell_type": "code",
      "source": "# a>5?1:2\n1 if a >5 else 2",
      "execution_count": 5,
      "outputs": [
        {
          "data": {
            "text/plain": "2"
          },
          "execution_count": 5,
          "metadata": {},
          "output_type": "execute_result"
        }
      ]
    },
    {
      "metadata": {
        "trusted": false
      },
      "cell_type": "code",
      "source": "# !true && false || true\nnot True and False or True",
      "execution_count": 6,
      "outputs": [
        {
          "data": {
            "text/plain": "True"
          },
          "execution_count": 6,
          "metadata": {},
          "output_type": "execute_result"
        }
      ]
    },
    {
      "metadata": {
        "trusted": false
      },
      "cell_type": "code",
      "source": "# js Boolean([]) === true\nbool([])",
      "execution_count": 7,
      "outputs": [
        {
          "data": {
            "text/plain": "False"
          },
          "execution_count": 7,
          "metadata": {},
          "output_type": "execute_result"
        }
      ]
    },
    {
      "metadata": {
        "trusted": false
      },
      "cell_type": "code",
      "source": "# for(let i=0;i<n;i++)\nfor i in range(3):\n    print(i)",
      "execution_count": 8,
      "outputs": [
        {
          "name": "stdout",
          "output_type": "stream",
          "text": "0\n1\n2\n"
        }
      ]
    },
    {
      "metadata": {},
      "cell_type": "markdown",
      "source": "#### type casting"
    },
    {
      "metadata": {
        "trusted": true
      },
      "cell_type": "code",
      "source": "# implicit,4/3=1.333333\n# python2 need cast type explict\nprint(4/3, 4//3)\n# parseInt(),parseFloat(),toString()\nint(),float(),str()",
      "execution_count": 1,
      "outputs": [
        {
          "output_type": "stream",
          "text": "1.3333333333333333 1\n",
          "name": "stdout"
        },
        {
          "output_type": "execute_result",
          "execution_count": 1,
          "data": {
            "text/plain": "(0, 0.0, '')"
          },
          "metadata": {}
        }
      ]
    },
    {
      "metadata": {},
      "cell_type": "markdown",
      "source": "#### string"
    },
    {
      "metadata": {
        "scrolled": true,
        "trusted": false
      },
      "cell_type": "code",
      "source": "# `bla\\nbla`\ns = \"\"\"bla\nbla\"\"\"\nprint(s*2)",
      "execution_count": 10,
      "outputs": [
        {
          "name": "stdout",
          "output_type": "stream",
          "text": "bla\nblabla\nbla\n"
        }
      ]
    },
    {
      "metadata": {
        "trusted": false
      },
      "cell_type": "code",
      "source": "# s.length\nlen(s)\n# s.indexOf('a')\nprint(s.find('a'))\n# s.toUpperCase() s.toLowerCase()\ns.upper(), s.lower()\n# s.startsWith('bl') s.endsWidth('a')\ns.startswith('bl'), s.endswith('a')\n# arr.join(',')\n','.join(['a','b'])\n# s.split(/\\r\\n|\\r|\\n/)\nprint(s.splitlines())\n# '  abc '.trim()\nprint('  abc '.strip())",
      "execution_count": 11,
      "outputs": [
        {
          "name": "stdout",
          "output_type": "stream",
          "text": "2\n['bla', 'bla']\nabc\n"
        }
      ]
    },
    {
      "metadata": {
        "trusted": false
      },
      "cell_type": "code",
      "source": "# 'aba'.replace(/a/g, 'd')\n'aba'.replace(\"a\", \"d\")",
      "execution_count": 12,
      "outputs": [
        {
          "data": {
            "text/plain": "'dbd'"
          },
          "execution_count": 12,
          "metadata": {},
          "output_type": "execute_result"
        }
      ]
    },
    {
      "metadata": {
        "scrolled": true,
        "trusted": false
      },
      "cell_type": "code",
      "source": "s.count('b') # count sub string",
      "execution_count": 13,
      "outputs": [
        {
          "data": {
            "text/plain": "2"
          },
          "execution_count": 13,
          "metadata": {},
          "output_type": "execute_result"
        }
      ]
    },
    {
      "metadata": {
        "trusted": false
      },
      "cell_type": "code",
      "source": "# `${x||5}, ${y||12}`\n\"{x}, {y}\".format(x=5, y=12)\n\"{0} {1}\".format('Marco', 'Polo')\n\"I'm %s.\" % 'Vamei'\n\"I'm %s. I'm %d \" % ('Vamei', 99)",
      "execution_count": 34,
      "outputs": [
        {
          "data": {
            "text/plain": "\"I'm Vamei. I'm 99 \""
          },
          "execution_count": 34,
          "metadata": {},
          "output_type": "execute_result"
        }
      ]
    },
    {
      "metadata": {
        "trusted": false
      },
      "cell_type": "code",
      "source": "# s.slice(-1)\ns[-1]\n# str.slice()\ns[:]\n# str.slice(1)\ns[1:]\n# str.slice(0,2)\ns[:2]\n# str.slice(1,2)\ns[1:2]\ns[::-1] # reverse",
      "execution_count": 15,
      "outputs": [
        {
          "data": {
            "text/plain": "'alb\\nalb'"
          },
          "execution_count": 15,
          "metadata": {},
          "output_type": "execute_result"
        }
      ]
    },
    {
      "metadata": {},
      "cell_type": "markdown",
      "source": "#### list"
    },
    {
      "metadata": {
        "trusted": false
      },
      "cell_type": "code",
      "source": "lst = []\nlst2 = [3]\n# array.push(1)\nlst.append(1)\n# array.length\nlen(lst)\n# Math.max.apply(null,array)\nmax(lst)\nmin(lst)\n# array.splice(index,0,val)\nlst.insert(1, 2)\nprint(lst)\n# array.indexOf(val)\nlst.index(1)\n# arr1.concat(arr2)\nlst.extend(lst2)\nprint(lst)\n# lst.concat(lst2)\nlst + lst2\n# lst.reverse()\nlist(reversed(lst)) # lst[::-1]",
      "execution_count": 16,
      "outputs": [
        {
          "name": "stdout",
          "output_type": "stream",
          "text": "[1, 2]\n[1, 2, 3]\n"
        },
        {
          "data": {
            "text/plain": "[3, 2, 1]"
          },
          "execution_count": 16,
          "metadata": {},
          "output_type": "execute_result"
        }
      ]
    },
    {
      "metadata": {
        "trusted": false
      },
      "cell_type": "code",
      "source": "li = list(range(1,10,2)) # from, to, step\nli.remove(3) # remove first match item from list\nprint(li.count(2)) # count item times\nli * 3",
      "execution_count": 17,
      "outputs": [
        {
          "name": "stdout",
          "output_type": "stream",
          "text": "0\n"
        },
        {
          "data": {
            "text/plain": "[1, 5, 7, 9, 1, 5, 7, 9, 1, 5, 7, 9]"
          },
          "execution_count": 17,
          "metadata": {},
          "output_type": "execute_result"
        }
      ]
    },
    {
      "metadata": {
        "scrolled": false,
        "trusted": false
      },
      "cell_type": "code",
      "source": "# for(let item of array)\n# for(let index in list)\n# array.forEach\nfor item in li:\n    print(item)\n# array.includes(x)\nprint(1 in li) # or not in\n# array.slice(from[,to])\nli[:2]\n# 'abc'.split('')\nlist('abc')",
      "execution_count": 18,
      "outputs": [
        {
          "name": "stdout",
          "output_type": "stream",
          "text": "1\n5\n7\n9\nTrue\n"
        },
        {
          "data": {
            "text/plain": "['a', 'b', 'c']"
          },
          "execution_count": 18,
          "metadata": {},
          "output_type": "execute_result"
        }
      ]
    },
    {
      "metadata": {
        "trusted": false
      },
      "cell_type": "code",
      "source": "# array.filter(x=>x%2==0).map(x=>x*2)\n[i*2 for i in li if i%2==0]\n# array.every(i=>i>5)\nprint(all([i>5 for i in li]))\n# array.any(i=>i>3)\nprint(any([i>3 for i in li]))\n# Array(n).fill().map(x=>Math.random()>0.5)\n# [random.random()>0.5 for x in range(3)]\nfirst_list = [1, 3]\nsecond_list = [3, 4]\ncombined_list = [[x + y for y in second_list] for x in first_list]\nprint(combined_list)",
      "execution_count": 19,
      "outputs": [
        {
          "name": "stdout",
          "output_type": "stream",
          "text": "False\nTrue\n[[4, 5], [6, 7]]\n"
        }
      ]
    },
    {
      "metadata": {
        "trusted": false
      },
      "cell_type": "code",
      "source": "# li.reduce((tot, cur) => tot + cur, 0)\nsum(li)",
      "execution_count": 20,
      "outputs": [
        {
          "data": {
            "text/plain": "22"
          },
          "execution_count": 20,
          "metadata": {},
          "output_type": "execute_result"
        }
      ]
    },
    {
      "metadata": {
        "trusted": false
      },
      "cell_type": "code",
      "source": "# list1.map((x, i) => [x, list2[i]]\nlist_1 = [1, 3, 5]\nlist_2 = [2, 4, 6]\nlist(zip(list_1, list_2))",
      "execution_count": 21,
      "outputs": [
        {
          "data": {
            "text/plain": "[(1, 2), (3, 4), (5, 6)]"
          },
          "execution_count": 21,
          "metadata": {},
          "output_type": "execute_result"
        }
      ]
    },
    {
      "metadata": {
        "trusted": false
      },
      "cell_type": "code",
      "source": "# generate\n# li.forEach((el, i) => console.log(i, el))\nfor i, item in enumerate(li):\n    print(i, item)\nfor it in enumerate(li):\n    print(it)",
      "execution_count": 22,
      "outputs": [
        {
          "name": "stdout",
          "output_type": "stream",
          "text": "0 1\n1 5\n2 7\n3 9\n(0, 1)\n(1, 5)\n(2, 7)\n(3, 9)\n"
        }
      ]
    },
    {
      "metadata": {
        "trusted": false
      },
      "cell_type": "code",
      "source": "# [...li, 999]\n[*li, 999]",
      "execution_count": 23,
      "outputs": [
        {
          "data": {
            "text/plain": "[1, 5, 7, 9, 999]"
          },
          "execution_count": 23,
          "metadata": {},
          "output_type": "execute_result"
        }
      ]
    },
    {
      "metadata": {
        "trusted": false
      },
      "cell_type": "code",
      "source": "# li.push(...[44])\nli.extend([44])\nprint(li)",
      "execution_count": 24,
      "outputs": [
        {
          "name": "stdout",
          "output_type": "stream",
          "text": "[1, 5, 7, 9, 44]\n"
        }
      ]
    },
    {
      "metadata": {
        "trusted": false
      },
      "cell_type": "code",
      "source": "# li.sort()\nsorted(li)",
      "execution_count": 25,
      "outputs": [
        {
          "data": {
            "text/plain": "[1, 5, 7, 9, 44]"
          },
          "execution_count": 25,
          "metadata": {},
          "output_type": "execute_result"
        }
      ]
    },
    {
      "metadata": {
        "trusted": false
      },
      "cell_type": "code",
      "source": "# li.shift()\nli.pop(0)\n# li.splice(3,1)\ndel li[3]\nprint(li)",
      "execution_count": 26,
      "outputs": [
        {
          "name": "stdout",
          "output_type": "stream",
          "text": "[5, 7, 9]\n"
        }
      ]
    },
    {
      "metadata": {},
      "cell_type": "markdown",
      "source": "#### tuple"
    },
    {
      "metadata": {
        "trusted": false
      },
      "cell_type": "code",
      "source": "# immutable\ntp = (\"spam\", \"eggs\", \"sausages\",)",
      "execution_count": 27,
      "outputs": []
    },
    {
      "metadata": {},
      "cell_type": "markdown",
      "source": "#### set"
    },
    {
      "metadata": {
        "trusted": false
      },
      "cell_type": "code",
      "source": "# let s=new Set()\n# let s2=new Set([1,2])\"\ns=set()\ns2={1,2}\n# s.delete(1)\ns2.remove(1)",
      "execution_count": 28,
      "outputs": []
    },
    {
      "metadata": {
        "trusted": false
      },
      "cell_type": "code",
      "source": "first = {1, 2, 3, 4, 5, 6}\nsecond = {4, 5, 6, 7, 8, 9}\nprint(first | second) # union\nprint(first & second) # intersection,gets items only in both\nprint(first - second) #difference,gets items in the first set but not in the second\nprint(first ^ second) #symmetric difference,gets items in either set, but not both.",
      "execution_count": 29,
      "outputs": [
        {
          "name": "stdout",
          "output_type": "stream",
          "text": "{1, 2, 3, 4, 5, 6, 7, 8, 9}\n{4, 5, 6}\n{1, 2, 3}\n{1, 2, 3, 7, 8, 9}\n"
        }
      ]
    },
    {
      "metadata": {},
      "cell_type": "markdown",
      "source": "#### dictionary"
    },
    {
      "metadata": {
        "trusted": false
      },
      "cell_type": "code",
      "source": "# ages = {\"Dave\": 24, \"Mary\": 42, \"John\": 58}\n# ages.Dave\nages = {\"Dave\": 24, \"Mary\": 42, \"John\": 58}\nages['Dave'] # key must immutable and use quoted, muse use obj[key] form key not exist cause error\"\nages.get(\"Dave\", 'defaultValue') # key not exist return None\n# !ages[‘3’] ages.hasOwnProperty('3')\n3 not in ages\n# Object.keys(ages)\nages.keys()\n# Object.values(ages)\nages.values()\n# ages.Dave || ''\nages.get('Dave', 'if not exist')",
      "execution_count": 42,
      "outputs": [
        {
          "data": {
            "text/plain": "24"
          },
          "execution_count": 42,
          "metadata": {},
          "output_type": "execute_result"
        }
      ]
    },
    {
      "metadata": {
        "scrolled": true,
        "trusted": false
      },
      "cell_type": "code",
      "source": "# delete ages.John\ndel ages['John']\n# Object.entries(ages).forEach()\nfor key, value in ages.items():\n    print('%s,%s'%(key,value))",
      "execution_count": 43,
      "outputs": [
        {
          "name": "stdout",
          "output_type": "stream",
          "text": "Mary,42\nDave,24\n"
        }
      ]
    },
    {
      "metadata": {
        "trusted": false
      },
      "cell_type": "code",
      "source": "# new_dict = {...age, three: 3}\nnew_dict = {**ages, \"three\": 3}\nnew_dict",
      "execution_count": 36,
      "outputs": [
        {
          "data": {
            "text/plain": "{'Dave': 24, 'John': 58, 'Mary': 42, 'three': 3}"
          },
          "execution_count": 36,
          "metadata": {},
          "output_type": "execute_result"
        }
      ]
    },
    {
      "metadata": {},
      "cell_type": "markdown",
      "source": "#### structure"
    },
    {
      "metadata": {
        "trusted": false
      },
      "cell_type": "code",
      "source": "# if (expr)\nif True:\n    pass\n# else if(expr)\nelif True:\n    pass\n# else\nelse:\n    pass\n#while(expr)\nwhile False:\n    pass",
      "execution_count": 33,
      "outputs": []
    },
    {
      "metadata": {
        "trusted": false
      },
      "cell_type": "code",
      "source": "for i in range(10): \n    if i == 999:\n       break\nelse: # for | while + else\n    print(\"Unbroken 1\")",
      "execution_count": 27,
      "outputs": [
        {
          "name": "stdout",
          "output_type": "stream",
          "text": "Unbroken 1\n"
        }
      ]
    },
    {
      "metadata": {
        "trusted": false
      },
      "cell_type": "code",
      "source": "# try{}catch(errortype){}catch(ex){}finally{}\ntry:\n    print()\nexcept exceptionname as err:\n    print(err)\nexcept:\n    print()\nfinally:\n    1 + 1",
      "execution_count": 29,
      "outputs": [
        {
          "name": "stdout",
          "output_type": "stream",
          "text": "\n"
        }
      ]
    },
    {
      "metadata": {
        "trusted": false
      },
      "cell_type": "code",
      "source": "# throw err(x)\nraise Exception('x')",
      "execution_count": 30,
      "outputs": [
        {
          "ename": "Exception",
          "evalue": "x",
          "output_type": "error",
          "traceback": [
            "\u001b[0;31m---------------------------------------------------------------------------\u001b[0m",
            "\u001b[0;31mException\u001b[0m                                 Traceback (most recent call last)",
            "\u001b[0;32m<ipython-input-30-98d2e92bd3cb>\u001b[0m in \u001b[0;36m<module>\u001b[0;34m()\u001b[0m\n\u001b[1;32m      1\u001b[0m \u001b[0;31m# throw err(x)\u001b[0m\u001b[0;34m\u001b[0m\u001b[0;34m\u001b[0m\u001b[0m\n\u001b[0;32m----> 2\u001b[0;31m \u001b[0;32mraise\u001b[0m \u001b[0mException\u001b[0m\u001b[0;34m(\u001b[0m\u001b[0;34m'x'\u001b[0m\u001b[0;34m)\u001b[0m\u001b[0;34m\u001b[0m\u001b[0m\n\u001b[0m",
            "\u001b[0;31mException\u001b[0m: x"
          ]
        }
      ]
    },
    {
      "metadata": {
        "trusted": false
      },
      "cell_type": "code",
      "source": "try:\n    print(1/0)\nexcept ZeroDivisionError:\n    print(4)\nelse:\n    print(5) # the code is only executed if no error occurs in the try statement\n",
      "execution_count": 31,
      "outputs": [
        {
          "name": "stdout",
          "output_type": "stream",
          "text": "4\n"
        }
      ]
    },
    {
      "metadata": {},
      "cell_type": "markdown",
      "source": "#### function"
    },
    {
      "metadata": {
        "trusted": false
      },
      "cell_type": "code",
      "source": "# let myfunc=function(x,y)\ndef myfunc(x,y):\n    pass\n# no return js return undefined\n# py return None without return statemen \n# function myfunc(fn,x,y) callback fn\ndef myfunc(func,x,y): # function as param,”func\" is fixed param name\n    pass\n# function fn(named_arg,...args){}\n# function f(...[a, b, c]) {return a + b + c}\n# Using *args as a function parameter to pass an arbitrary number of arguments to that function.\n# The arguments are then accessible as the tuple args\ndef fn(named_arg, *args):\n    print(named_arg)\n    print(args)\n# function(x,food='bla',y)\ndef function(x, y, food=\"spam\"): # a default value must come after named parameters without a default value.\n    print(food)\n# **kwargs arguments return a dictionary in which the keys are the argument names.\n# and the values are the argument values.\ndef my_func(x, y=7, *args, **kwargs): \n    print(x, y, args, kwargs)\nmy_func(2, 3, 4, 5, 6, a=7, b=8)",
      "execution_count": 38,
      "outputs": [
        {
          "name": "stdout",
          "output_type": "stream",
          "text": "2 3 (4, 5, 6) {'b': 8, 'a': 7}\n"
        }
      ]
    },
    {
      "metadata": {},
      "cell_type": "markdown",
      "source": "#### math"
    },
    {
      "metadata": {
        "trusted": false
      },
      "cell_type": "code",
      "source": "# Math.abs(-1)\nabs(-1),round(1.2),max(1,2),min(1,2),sum([])\n# Math.PI Math.E\nimport math\nmath.pi, math.e, math.cos(math.pi)\n# Math.random()\nimport random\nrandom.random()",
      "execution_count": 39,
      "outputs": [
        {
          "data": {
            "text/plain": "0.822739295612065"
          },
          "execution_count": 39,
          "metadata": {},
          "output_type": "execute_result"
        }
      ]
    },
    {
      "metadata": {},
      "cell_type": "markdown",
      "source": "#### datetime"
    },
    {
      "metadata": {
        "trusted": false
      },
      "cell_type": "code",
      "source": "import time\n# Time in seconds, as a float\ntime.time()\n# await new Promise(resolv => setTimeout(resolov,1000))\ntime.sleep(1)\n# import moment from 'momemt'\n# moment('2018-01-01','YYYY-MM-DD')\n# start_date.add(1,'d')\nimport datetime\nstart_date = datetime.datetime.strptime('2018-1-1', '%Y-%m-%d')\nprint(start_date.year)\nstart_date + datetime.timedelta(days=1)",
      "execution_count": 40,
      "outputs": [
        {
          "name": "stdout",
          "output_type": "stream",
          "text": "2018\n"
        },
        {
          "data": {
            "text/plain": "datetime.datetime(2018, 1, 2, 0, 0)"
          },
          "execution_count": 40,
          "metadata": {},
          "output_type": "execute_result"
        }
      ]
    },
    {
      "metadata": {},
      "cell_type": "markdown",
      "source": "##### re"
    },
    {
      "metadata": {
        "trusted": false
      },
      "cell_type": "code",
      "source": "import re\n# reg = /\\d/\nreg = r'\\d'\nre.search(reg, \"iphone 8\")\n",
      "execution_count": 52,
      "outputs": [
        {
          "data": {
            "text/plain": "<_sre.SRE_Match object; span=(7, 8), match='8'>"
          },
          "execution_count": 52,
          "metadata": {},
          "output_type": "execute_result"
        }
      ]
    },
    {
      "metadata": {
        "trusted": false
      },
      "cell_type": "code",
      "source": "",
      "execution_count": null,
      "outputs": []
    }
  ],
  "metadata": {
    "kernelspec": {
      "name": "python3",
      "display_name": "Python 3",
      "language": "python"
    },
    "language_info": {
      "mimetype": "text/x-python",
      "nbconvert_exporter": "python",
      "name": "python",
      "file_extension": ".py",
      "version": "3.5.4",
      "pygments_lexer": "ipython3",
      "codemirror_mode": {
        "version": 3,
        "name": "ipython"
      }
    }
  },
  "nbformat": 4,
  "nbformat_minor": 2
}